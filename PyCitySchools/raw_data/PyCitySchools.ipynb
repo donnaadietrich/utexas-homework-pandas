{
 "cells": [
  {
   "cell_type": "code",
   "execution_count": 1,
   "metadata": {
    "collapsed": true
   },
   "outputs": [],
   "source": [
    "# dependencies\n",
    "import pandas as pd\n",
    "import numpy as np\n",
    "import os"
   ]
  },
  {
   "cell_type": "code",
   "execution_count": 2,
   "metadata": {
    "collapsed": true
   },
   "outputs": [],
   "source": [
    "#load school csv\n",
    "cityschools = os.path.join(\"schools_complete.csv\")"
   ]
  },
  {
   "cell_type": "code",
   "execution_count": 3,
   "metadata": {
    "collapsed": true
   },
   "outputs": [],
   "source": [
    "#read cityschools with pandas\n",
    "cityschools_df = pd.read_csv(cityschools)\n"
   ]
  },
  {
   "cell_type": "code",
   "execution_count": 4,
   "metadata": {
    "collapsed": true
   },
   "outputs": [],
   "source": [
    "total_budget = cityschools_df['budget'].sum()\n"
   ]
  },
  {
   "cell_type": "code",
   "execution_count": 5,
   "metadata": {
    "collapsed": true
   },
   "outputs": [],
   "source": [
    "#load student csv\n",
    "citystudents = os.path.join(\"students_complete.csv\")"
   ]
  },
  {
   "cell_type": "code",
   "execution_count": 6,
   "metadata": {
    "collapsed": true
   },
   "outputs": [],
   "source": [
    "#read citystudents with pandas\n",
    "citystudents_df = pd.read_csv(citystudents)\n"
   ]
  },
  {
   "cell_type": "code",
   "execution_count": 7,
   "metadata": {
    "collapsed": true
   },
   "outputs": [],
   "source": [
    "#change the school column header in cityschools\n",
    "cityschools_df = cityschools_df.rename(columns={\"name\": \"school\"})\n",
    "#cityschools_df.head()"
   ]
  },
  {
   "cell_type": "code",
   "execution_count": 8,
   "metadata": {
    "collapsed": true
   },
   "outputs": [],
   "source": [
    "#merget tables\n",
    "schoolsdata_df = pd.merge(citystudents_df, cityschools_df, on=\"school\")\n",
    "#schoolsdata_df.head()"
   ]
  },
  {
   "cell_type": "code",
   "execution_count": 9,
   "metadata": {
    "collapsed": true
   },
   "outputs": [],
   "source": [
    "#**District Summary**\n",
    "\n",
    "# * Create a high level snapshot (in table form) of the district's key metrics, including:\n",
    "#   * Total Schools\n",
    "total_schools = schoolsdata_df['school'].nunique()\n",
    "#print(total_schools)"
   ]
  },
  {
   "cell_type": "code",
   "execution_count": 10,
   "metadata": {
    "collapsed": true
   },
   "outputs": [],
   "source": [
    "#   * Total Students\n",
    "total_students=len(schoolsdata_df.axes[0])\n",
    "#print(total_students)"
   ]
  },
  {
   "cell_type": "code",
   "execution_count": 11,
   "metadata": {
    "collapsed": true
   },
   "outputs": [],
   "source": [
    "#   * Average Math Score\n",
    "district_average_math = schoolsdata_df['math_score'].mean()\n",
    "#print(district_average_math)"
   ]
  },
  {
   "cell_type": "code",
   "execution_count": 12,
   "metadata": {
    "collapsed": true
   },
   "outputs": [],
   "source": [
    "#   * Average Reading Score\n",
    "district_average_reading = schoolsdata_df['reading_score'].mean()\n",
    "#print(district_average_reading)"
   ]
  },
  {
   "cell_type": "code",
   "execution_count": 13,
   "metadata": {
    "collapsed": true
   },
   "outputs": [],
   "source": [
    "#  * % Passing Math\n",
    "bins = [1, 70, 100]\n",
    "score = [False, True]"
   ]
  },
  {
   "cell_type": "code",
   "execution_count": 14,
   "metadata": {
    "collapsed": true
   },
   "outputs": [],
   "source": [
    "pd.cut(schoolsdata_df['math_score'], bins, labels=score)\n",
    "schoolsdata_df['passing_math'] = pd.cut(schoolsdata_df['math_score'], bins, labels=score)\n",
    "#schoolsdata_df.head()"
   ]
  },
  {
   "cell_type": "code",
   "execution_count": 15,
   "metadata": {
    "collapsed": true
   },
   "outputs": [],
   "source": [
    "schoolsdata_df['passing_math'] = schoolsdata_df['passing_math'] == True\n",
    "mpass_district = schoolsdata_df['passing_math'].sum()\n",
    "#print(mpass_district)                 "
   ]
  },
  {
   "cell_type": "code",
   "execution_count": 16,
   "metadata": {
    "collapsed": true
   },
   "outputs": [],
   "source": [
    "pmpass_district = mpass_district / total_students * 100\n",
    "#print(pmpass_district)"
   ]
  },
  {
   "cell_type": "code",
   "execution_count": 17,
   "metadata": {
    "collapsed": true
   },
   "outputs": [],
   "source": [
    "#   * % Passing Reading\n",
    "Bins = [1, 70, 100]\n",
    "Score = [False, True]"
   ]
  },
  {
   "cell_type": "code",
   "execution_count": 18,
   "metadata": {
    "collapsed": true
   },
   "outputs": [],
   "source": [
    "pd.cut(schoolsdata_df['reading_score'], bins, labels=score)\n",
    "schoolsdata_df['passing_reading'] = pd.cut(schoolsdata_df['reading_score'], bins, labels=score)\n",
    "#schoolsdata_df.head()"
   ]
  },
  {
   "cell_type": "code",
   "execution_count": 19,
   "metadata": {},
   "outputs": [],
   "source": [
    "schoolsdata_df['passing_reading'] = schoolsdata_df['passing_reading'] == True\n",
    "rpass_district = schoolsdata_df['passing_reading'].sum()\n",
    "#print(rpass_district)"
   ]
  },
  {
   "cell_type": "code",
   "execution_count": 20,
   "metadata": {},
   "outputs": [],
   "source": [
    "prpass_district = rpass_district / total_students * 100\n",
    "#print(prpass_district)"
   ]
  },
  {
   "cell_type": "code",
   "execution_count": 21,
   "metadata": {},
   "outputs": [],
   "source": [
    "#   * Overall Passing Rate (Average of the above two)\n",
    "district_passing = pmpass_district / prpass_district * 100\n",
    "#print(district_passing)"
   ]
  },
  {
   "cell_type": "code",
   "execution_count": 22,
   "metadata": {
    "collapsed": true
   },
   "outputs": [],
   "source": [
    "district_summary = pd.DataFrame({'Total Schools': [total_schools],\n",
    "                                 'Total Students': [total_students], \n",
    "                                 'Total Budget': [total_budget], \n",
    "                                 'Average Math Score': [district_average_math],\n",
    "                                 'Average Reading Score': [district_average_reading],\n",
    "                                 '% Passing Math': [pmpass_district],\n",
    "                                 '% Passing Reading': [prpass_district],\n",
    "                                 '% Overall Passing Rate': [district_passing]\n",
    "})\n",
    "district_summary = district_summary[['Total Schools',\n",
    "                                    'Total Students',\n",
    "                                    'Total Budget',\n",
    "                                    'Average Math Score',\n",
    "                                    'Average Reading Score',\n",
    "                                    '% Passing Math',\n",
    "                                    '% Passing Reading',\n",
    "                                    '% Overall Passing Rate']]\n",
    "district_summary = district_summary.round(2)"
   ]
  },
  {
   "cell_type": "code",
   "execution_count": 23,
   "metadata": {
    "collapsed": true
   },
   "outputs": [],
   "source": [
    "schooltype_df = (schoolsdata_df['type']. groupby(schoolsdata_df['school'])).describe()"
   ]
  },
  {
   "cell_type": "code",
   "execution_count": 24,
   "metadata": {
    "collapsed": true
   },
   "outputs": [],
   "source": [
    "schooltype_df.reset_index(inplace=True)"
   ]
  },
  {
   "cell_type": "code",
   "execution_count": 25,
   "metadata": {
    "collapsed": true
   },
   "outputs": [],
   "source": [
    "schooltype_df = schooltype_df.rename(columns={\"count\": \"Total Students\", \"top\": \"School Type\"})"
   ]
  },
  {
   "cell_type": "code",
   "execution_count": 26,
   "metadata": {
    "collapsed": true
   },
   "outputs": [],
   "source": [
    "#   * Total School Budget\n",
    "schoolbudget_df = (schoolsdata_df['budget']. groupby(schoolsdata_df['school'])).describe()"
   ]
  },
  {
   "cell_type": "code",
   "execution_count": 27,
   "metadata": {
    "collapsed": true
   },
   "outputs": [],
   "source": [
    "schoolbudget_df.reset_index(inplace=True)"
   ]
  },
  {
   "cell_type": "code",
   "execution_count": 28,
   "metadata": {
    "collapsed": true
   },
   "outputs": [],
   "source": [
    "df1_df = pd.merge(schooltype_df, schoolbudget_df, on='school') "
   ]
  },
  {
   "cell_type": "code",
   "execution_count": 29,
   "metadata": {},
   "outputs": [
    {
     "data": {
      "text/html": [
       "<div>\n",
       "<style>\n",
       "    .dataframe thead tr:only-child th {\n",
       "        text-align: right;\n",
       "    }\n",
       "\n",
       "    .dataframe thead th {\n",
       "        text-align: left;\n",
       "    }\n",
       "\n",
       "    .dataframe tbody tr th {\n",
       "        vertical-align: top;\n",
       "    }\n",
       "</style>\n",
       "<table border=\"1\" class=\"dataframe\">\n",
       "  <thead>\n",
       "    <tr style=\"text-align: right;\">\n",
       "      <th></th>\n",
       "      <th>index</th>\n",
       "      <th>school</th>\n",
       "      <th>Total Students</th>\n",
       "      <th>unique</th>\n",
       "      <th>School Type</th>\n",
       "      <th>freq</th>\n",
       "      <th>count</th>\n",
       "      <th>mean</th>\n",
       "      <th>std</th>\n",
       "      <th>min</th>\n",
       "      <th>25%</th>\n",
       "      <th>50%</th>\n",
       "      <th>75%</th>\n",
       "      <th>max</th>\n",
       "    </tr>\n",
       "  </thead>\n",
       "  <tbody>\n",
       "    <tr>\n",
       "      <th>0</th>\n",
       "      <td>0</td>\n",
       "      <td>Bailey High School</td>\n",
       "      <td>4976</td>\n",
       "      <td>1</td>\n",
       "      <td>District</td>\n",
       "      <td>4976</td>\n",
       "      <td>4976.0</td>\n",
       "      <td>3124928.0</td>\n",
       "      <td>0.0</td>\n",
       "      <td>3124928.0</td>\n",
       "      <td>3124928.0</td>\n",
       "      <td>3124928.0</td>\n",
       "      <td>3124928.0</td>\n",
       "      <td>3124928.0</td>\n",
       "    </tr>\n",
       "    <tr>\n",
       "      <th>1</th>\n",
       "      <td>1</td>\n",
       "      <td>Cabrera High School</td>\n",
       "      <td>1858</td>\n",
       "      <td>1</td>\n",
       "      <td>Charter</td>\n",
       "      <td>1858</td>\n",
       "      <td>1858.0</td>\n",
       "      <td>1081356.0</td>\n",
       "      <td>0.0</td>\n",
       "      <td>1081356.0</td>\n",
       "      <td>1081356.0</td>\n",
       "      <td>1081356.0</td>\n",
       "      <td>1081356.0</td>\n",
       "      <td>1081356.0</td>\n",
       "    </tr>\n",
       "    <tr>\n",
       "      <th>2</th>\n",
       "      <td>2</td>\n",
       "      <td>Figueroa High School</td>\n",
       "      <td>2949</td>\n",
       "      <td>1</td>\n",
       "      <td>District</td>\n",
       "      <td>2949</td>\n",
       "      <td>2949.0</td>\n",
       "      <td>1884411.0</td>\n",
       "      <td>0.0</td>\n",
       "      <td>1884411.0</td>\n",
       "      <td>1884411.0</td>\n",
       "      <td>1884411.0</td>\n",
       "      <td>1884411.0</td>\n",
       "      <td>1884411.0</td>\n",
       "    </tr>\n",
       "    <tr>\n",
       "      <th>3</th>\n",
       "      <td>3</td>\n",
       "      <td>Ford High School</td>\n",
       "      <td>2739</td>\n",
       "      <td>1</td>\n",
       "      <td>District</td>\n",
       "      <td>2739</td>\n",
       "      <td>2739.0</td>\n",
       "      <td>1763916.0</td>\n",
       "      <td>0.0</td>\n",
       "      <td>1763916.0</td>\n",
       "      <td>1763916.0</td>\n",
       "      <td>1763916.0</td>\n",
       "      <td>1763916.0</td>\n",
       "      <td>1763916.0</td>\n",
       "    </tr>\n",
       "    <tr>\n",
       "      <th>4</th>\n",
       "      <td>4</td>\n",
       "      <td>Griffin High School</td>\n",
       "      <td>1468</td>\n",
       "      <td>1</td>\n",
       "      <td>Charter</td>\n",
       "      <td>1468</td>\n",
       "      <td>1468.0</td>\n",
       "      <td>917500.0</td>\n",
       "      <td>0.0</td>\n",
       "      <td>917500.0</td>\n",
       "      <td>917500.0</td>\n",
       "      <td>917500.0</td>\n",
       "      <td>917500.0</td>\n",
       "      <td>917500.0</td>\n",
       "    </tr>\n",
       "    <tr>\n",
       "      <th>5</th>\n",
       "      <td>5</td>\n",
       "      <td>Hernandez High School</td>\n",
       "      <td>4635</td>\n",
       "      <td>1</td>\n",
       "      <td>District</td>\n",
       "      <td>4635</td>\n",
       "      <td>4635.0</td>\n",
       "      <td>3022020.0</td>\n",
       "      <td>0.0</td>\n",
       "      <td>3022020.0</td>\n",
       "      <td>3022020.0</td>\n",
       "      <td>3022020.0</td>\n",
       "      <td>3022020.0</td>\n",
       "      <td>3022020.0</td>\n",
       "    </tr>\n",
       "    <tr>\n",
       "      <th>6</th>\n",
       "      <td>6</td>\n",
       "      <td>Holden High School</td>\n",
       "      <td>427</td>\n",
       "      <td>1</td>\n",
       "      <td>Charter</td>\n",
       "      <td>427</td>\n",
       "      <td>427.0</td>\n",
       "      <td>248087.0</td>\n",
       "      <td>0.0</td>\n",
       "      <td>248087.0</td>\n",
       "      <td>248087.0</td>\n",
       "      <td>248087.0</td>\n",
       "      <td>248087.0</td>\n",
       "      <td>248087.0</td>\n",
       "    </tr>\n",
       "    <tr>\n",
       "      <th>7</th>\n",
       "      <td>7</td>\n",
       "      <td>Huang High School</td>\n",
       "      <td>2917</td>\n",
       "      <td>1</td>\n",
       "      <td>District</td>\n",
       "      <td>2917</td>\n",
       "      <td>2917.0</td>\n",
       "      <td>1910635.0</td>\n",
       "      <td>0.0</td>\n",
       "      <td>1910635.0</td>\n",
       "      <td>1910635.0</td>\n",
       "      <td>1910635.0</td>\n",
       "      <td>1910635.0</td>\n",
       "      <td>1910635.0</td>\n",
       "    </tr>\n",
       "    <tr>\n",
       "      <th>8</th>\n",
       "      <td>8</td>\n",
       "      <td>Johnson High School</td>\n",
       "      <td>4761</td>\n",
       "      <td>1</td>\n",
       "      <td>District</td>\n",
       "      <td>4761</td>\n",
       "      <td>4761.0</td>\n",
       "      <td>3094650.0</td>\n",
       "      <td>0.0</td>\n",
       "      <td>3094650.0</td>\n",
       "      <td>3094650.0</td>\n",
       "      <td>3094650.0</td>\n",
       "      <td>3094650.0</td>\n",
       "      <td>3094650.0</td>\n",
       "    </tr>\n",
       "    <tr>\n",
       "      <th>9</th>\n",
       "      <td>9</td>\n",
       "      <td>Pena High School</td>\n",
       "      <td>962</td>\n",
       "      <td>1</td>\n",
       "      <td>Charter</td>\n",
       "      <td>962</td>\n",
       "      <td>962.0</td>\n",
       "      <td>585858.0</td>\n",
       "      <td>0.0</td>\n",
       "      <td>585858.0</td>\n",
       "      <td>585858.0</td>\n",
       "      <td>585858.0</td>\n",
       "      <td>585858.0</td>\n",
       "      <td>585858.0</td>\n",
       "    </tr>\n",
       "    <tr>\n",
       "      <th>10</th>\n",
       "      <td>10</td>\n",
       "      <td>Rodriguez High School</td>\n",
       "      <td>3999</td>\n",
       "      <td>1</td>\n",
       "      <td>District</td>\n",
       "      <td>3999</td>\n",
       "      <td>3999.0</td>\n",
       "      <td>2547363.0</td>\n",
       "      <td>0.0</td>\n",
       "      <td>2547363.0</td>\n",
       "      <td>2547363.0</td>\n",
       "      <td>2547363.0</td>\n",
       "      <td>2547363.0</td>\n",
       "      <td>2547363.0</td>\n",
       "    </tr>\n",
       "    <tr>\n",
       "      <th>11</th>\n",
       "      <td>11</td>\n",
       "      <td>Shelton High School</td>\n",
       "      <td>1761</td>\n",
       "      <td>1</td>\n",
       "      <td>Charter</td>\n",
       "      <td>1761</td>\n",
       "      <td>1761.0</td>\n",
       "      <td>1056600.0</td>\n",
       "      <td>0.0</td>\n",
       "      <td>1056600.0</td>\n",
       "      <td>1056600.0</td>\n",
       "      <td>1056600.0</td>\n",
       "      <td>1056600.0</td>\n",
       "      <td>1056600.0</td>\n",
       "    </tr>\n",
       "    <tr>\n",
       "      <th>12</th>\n",
       "      <td>12</td>\n",
       "      <td>Thomas High School</td>\n",
       "      <td>1635</td>\n",
       "      <td>1</td>\n",
       "      <td>Charter</td>\n",
       "      <td>1635</td>\n",
       "      <td>1635.0</td>\n",
       "      <td>1043130.0</td>\n",
       "      <td>0.0</td>\n",
       "      <td>1043130.0</td>\n",
       "      <td>1043130.0</td>\n",
       "      <td>1043130.0</td>\n",
       "      <td>1043130.0</td>\n",
       "      <td>1043130.0</td>\n",
       "    </tr>\n",
       "    <tr>\n",
       "      <th>13</th>\n",
       "      <td>13</td>\n",
       "      <td>Wilson High School</td>\n",
       "      <td>2283</td>\n",
       "      <td>1</td>\n",
       "      <td>Charter</td>\n",
       "      <td>2283</td>\n",
       "      <td>2283.0</td>\n",
       "      <td>1319574.0</td>\n",
       "      <td>0.0</td>\n",
       "      <td>1319574.0</td>\n",
       "      <td>1319574.0</td>\n",
       "      <td>1319574.0</td>\n",
       "      <td>1319574.0</td>\n",
       "      <td>1319574.0</td>\n",
       "    </tr>\n",
       "    <tr>\n",
       "      <th>14</th>\n",
       "      <td>14</td>\n",
       "      <td>Wright High School</td>\n",
       "      <td>1800</td>\n",
       "      <td>1</td>\n",
       "      <td>Charter</td>\n",
       "      <td>1800</td>\n",
       "      <td>1800.0</td>\n",
       "      <td>1049400.0</td>\n",
       "      <td>0.0</td>\n",
       "      <td>1049400.0</td>\n",
       "      <td>1049400.0</td>\n",
       "      <td>1049400.0</td>\n",
       "      <td>1049400.0</td>\n",
       "      <td>1049400.0</td>\n",
       "    </tr>\n",
       "  </tbody>\n",
       "</table>\n",
       "</div>"
      ],
      "text/plain": [
       "    index                 school Total Students unique School Type  freq  \\\n",
       "0       0     Bailey High School           4976      1    District  4976   \n",
       "1       1    Cabrera High School           1858      1     Charter  1858   \n",
       "2       2   Figueroa High School           2949      1    District  2949   \n",
       "3       3       Ford High School           2739      1    District  2739   \n",
       "4       4    Griffin High School           1468      1     Charter  1468   \n",
       "5       5  Hernandez High School           4635      1    District  4635   \n",
       "6       6     Holden High School            427      1     Charter   427   \n",
       "7       7      Huang High School           2917      1    District  2917   \n",
       "8       8    Johnson High School           4761      1    District  4761   \n",
       "9       9       Pena High School            962      1     Charter   962   \n",
       "10     10  Rodriguez High School           3999      1    District  3999   \n",
       "11     11    Shelton High School           1761      1     Charter  1761   \n",
       "12     12     Thomas High School           1635      1     Charter  1635   \n",
       "13     13     Wilson High School           2283      1     Charter  2283   \n",
       "14     14     Wright High School           1800      1     Charter  1800   \n",
       "\n",
       "     count       mean  std        min        25%        50%        75%  \\\n",
       "0   4976.0  3124928.0  0.0  3124928.0  3124928.0  3124928.0  3124928.0   \n",
       "1   1858.0  1081356.0  0.0  1081356.0  1081356.0  1081356.0  1081356.0   \n",
       "2   2949.0  1884411.0  0.0  1884411.0  1884411.0  1884411.0  1884411.0   \n",
       "3   2739.0  1763916.0  0.0  1763916.0  1763916.0  1763916.0  1763916.0   \n",
       "4   1468.0   917500.0  0.0   917500.0   917500.0   917500.0   917500.0   \n",
       "5   4635.0  3022020.0  0.0  3022020.0  3022020.0  3022020.0  3022020.0   \n",
       "6    427.0   248087.0  0.0   248087.0   248087.0   248087.0   248087.0   \n",
       "7   2917.0  1910635.0  0.0  1910635.0  1910635.0  1910635.0  1910635.0   \n",
       "8   4761.0  3094650.0  0.0  3094650.0  3094650.0  3094650.0  3094650.0   \n",
       "9    962.0   585858.0  0.0   585858.0   585858.0   585858.0   585858.0   \n",
       "10  3999.0  2547363.0  0.0  2547363.0  2547363.0  2547363.0  2547363.0   \n",
       "11  1761.0  1056600.0  0.0  1056600.0  1056600.0  1056600.0  1056600.0   \n",
       "12  1635.0  1043130.0  0.0  1043130.0  1043130.0  1043130.0  1043130.0   \n",
       "13  2283.0  1319574.0  0.0  1319574.0  1319574.0  1319574.0  1319574.0   \n",
       "14  1800.0  1049400.0  0.0  1049400.0  1049400.0  1049400.0  1049400.0   \n",
       "\n",
       "          max  \n",
       "0   3124928.0  \n",
       "1   1081356.0  \n",
       "2   1884411.0  \n",
       "3   1763916.0  \n",
       "4    917500.0  \n",
       "5   3022020.0  \n",
       "6    248087.0  \n",
       "7   1910635.0  \n",
       "8   3094650.0  \n",
       "9    585858.0  \n",
       "10  2547363.0  \n",
       "11  1056600.0  \n",
       "12  1043130.0  \n",
       "13  1319574.0  \n",
       "14  1049400.0  "
      ]
     },
     "execution_count": 29,
     "metadata": {},
     "output_type": "execute_result"
    }
   ],
   "source": [
    "df1_df.reset_index(inplace=False)"
   ]
  },
  {
   "cell_type": "code",
   "execution_count": 30,
   "metadata": {
    "collapsed": true,
    "scrolled": true
   },
   "outputs": [],
   "source": [
    "#   * % Passing Math\n",
    "schoolmathpass_df = (schoolsdata_df['passing_math']. groupby(schoolsdata_df['school'])).mean().to_frame()\n",
    "schoolmathpass_df.reset_index(inplace=True)\n",
    "#schoolmathpass_df.head()"
   ]
  },
  {
   "cell_type": "code",
   "execution_count": 31,
   "metadata": {
    "collapsed": true
   },
   "outputs": [],
   "source": [
    "df2_df = pd.merge(df1_df, schoolmathpass_df, on=\"school\")"
   ]
  },
  {
   "cell_type": "code",
   "execution_count": 32,
   "metadata": {
    "collapsed": true
   },
   "outputs": [],
   "source": [
    "#   * % Passing Reading\n",
    "schoolreadpass_df = (schoolsdata_df['passing_reading']. groupby(schoolsdata_df['school'])).mean().to_frame()\n",
    "schoolreadpass_df.reset_index(inplace=True)\n",
    "#schoolreadpass_df.head() "
   ]
  },
  {
   "cell_type": "code",
   "execution_count": 33,
   "metadata": {
    "collapsed": true
   },
   "outputs": [],
   "source": [
    "schoolsum_df = pd.merge(df2_df, schoolreadpass_df, on='school')\n",
    "#schoolsum_df.head()"
   ]
  },
  {
   "cell_type": "code",
   "execution_count": 34,
   "metadata": {
    "collapsed": true
   },
   "outputs": [],
   "source": [
    "schoolsummary_df = schoolsum_df[[\"school\", \"School Type\", \"Total Students\", \"mean\", \"passing_math\", \"passing_reading\"]]"
   ]
  },
  {
   "cell_type": "code",
   "execution_count": 35,
   "metadata": {
    "collapsed": true
   },
   "outputs": [],
   "source": [
    "#   * Average Math Score\n",
    "schoolmathavg = (schoolsdata_df['math_score']. groupby(schoolsdata_df['school'])).mean().to_frame()\n",
    "schoolmathavg.reset_index(inplace=True)"
   ]
  },
  {
   "cell_type": "code",
   "execution_count": 36,
   "metadata": {
    "collapsed": true
   },
   "outputs": [],
   "source": [
    "#   * Average Reading Score\n",
    "schoolreadingavg = (schoolsdata_df['reading_score']. groupby(schoolsdata_df['school'])).mean().to_frame()\n",
    "schoolreadingavg.reset_index(inplace=True)"
   ]
  },
  {
   "cell_type": "code",
   "execution_count": 37,
   "metadata": {
    "collapsed": true
   },
   "outputs": [],
   "source": [
    "averagescores_df = pd.merge(schoolmathavg, schoolreadingavg, on=\"school\")"
   ]
  },
  {
   "cell_type": "code",
   "execution_count": 38,
   "metadata": {
    "collapsed": true
   },
   "outputs": [],
   "source": [
    "school_summary_df = pd.merge(schoolsummary_df, averagescores_df, on=\"school\")\n"
   ]
  },
  {
   "cell_type": "code",
   "execution_count": 39,
   "metadata": {
    "collapsed": true
   },
   "outputs": [],
   "source": [
    "#   * Per student Budget\n",
    "school_summary_df[\"per_student_budget\"] = school_summary_df[\"mean\"]/school_summary_df[\"Total Students\"]\n"
   ]
  },
  {
   "cell_type": "code",
   "execution_count": 40,
   "metadata": {
    "collapsed": true
   },
   "outputs": [],
   "source": [
    "#   * Overall Passing Rate (Average of the above two)\n",
    "school_summary_df[\"% Overall Passing Rate\"] = (school_summary_df[\"passing_math\"] + school_summary_df[\"passing_reading\"])/2\n"
   ]
  },
  {
   "cell_type": "code",
   "execution_count": 41,
   "metadata": {
    "collapsed": true
   },
   "outputs": [],
   "source": [
    "school_summary_df[\"per_student_budget\"] = school_summary_df.per_student_budget.astype(float)"
   ]
  },
  {
   "cell_type": "code",
   "execution_count": 42,
   "metadata": {
    "collapsed": true
   },
   "outputs": [],
   "source": [
    "school_summary_df = school_summary_df.rename(columns={\"mean\": \"Total School Budget\", \"passing_math\": \"% Passing Math\", \"passing_reading\": \"% Passing Reading\", \"math_score\": \"Average Math Score\", \"reading_score\": \"Average Reading Score\", \"per_student_budget\": \"Per Student Budget\"})\n",
    "school_summary_df = school_summary_df[[\"school\", \"School Type\", \"Total Students\", \"Total School Budget\", \"Per Student Budget\", \"Average Math Score\", \"Average Reading Score\", \"% Passing Math\", \"% Passing Reading\", \"% Overall Passing Rate\"]]"
   ]
  },
  {
   "cell_type": "code",
   "execution_count": 43,
   "metadata": {
    "collapsed": true
   },
   "outputs": [],
   "source": [
    "# **Top Performing Schools (By Passing Rate)**\n",
    "\n",
    "# * Create a table that highlights the top 5 performing schools based on Overall Passing Rate. Include:\n",
    "#   * School Name\n",
    "#   * School Type\n",
    "#   * Total Students\n",
    "#   * Total School Budget\n",
    "#   * Per School Budget\n",
    "#   * Average Math Score\n",
    "#   * Average Reading Score\n",
    "#   * % Passing Math\n",
    "#   * % Passing Reading\n",
    "#   * Overall Passing Rate (Average of the above two)\n",
    "\n",
    "Top_performing = school_summary_df.sort_values(by='% Overall Passing Rate', ascending=False)\n"
   ]
  },
  {
   "cell_type": "code",
   "execution_count": 44,
   "metadata": {
    "collapsed": true
   },
   "outputs": [],
   "source": [
    "Bottom_performing = school_summary_df.sort_values(by='% Overall Passing Rate', ascending=True)"
   ]
  },
  {
   "cell_type": "code",
   "execution_count": 45,
   "metadata": {
    "collapsed": true
   },
   "outputs": [],
   "source": [
    "# **Math Scores by Grade**\n",
    "\n",
    "# * Create a table that lists the average Math Score for students of each grade level (9th, 10th, 11th, 12th) at each school.\n",
    "schoolmathscores = schoolsdata_df[[\"school\", \"grade\", \"math_score\"]]\n"
   ]
  },
  {
   "cell_type": "code",
   "execution_count": 46,
   "metadata": {
    "collapsed": true
   },
   "outputs": [],
   "source": [
    "# **Reading Scores by Grade**\n",
    "\n",
    "# * Create a table that lists the average Reading Score for students of each grade level (9th, 10th, 11th, 12th) at each school.\n",
    "schoolreadscores = schoolsdata_df[[\"school\", \"grade\", \"reading_score\"]]\n"
   ]
  },
  {
   "cell_type": "code",
   "execution_count": 47,
   "metadata": {
    "collapsed": true
   },
   "outputs": [],
   "source": [
    "# **Scores by School Spending**\n",
    "\n",
    "# * Create a table that breaks down school performances based on average Spending Ranges (Per Student). Use 4 reasonable bins to group school spending. Include in the table each of the following:\n",
    "#   * Average Math Score\n",
    "#   * Average Reading Score\n",
    "#   * % Passing Math\n",
    "#   * % Passing Reading\n",
    "#   * Overall Passing Rate (Average of the above two)\n",
    "#print(school_summary_df[\"Per Student Budget\"].max())\n",
    "#print(school_summary_df[\"Per Student Budget\"].min())\n",
    "bins = [0,580,615,635,660]\n",
    "group_labels = [\"<$580\",\"$580-$615\",\"$615-$635\",\"$635-$660\"]"
   ]
  },
  {
   "cell_type": "code",
   "execution_count": 48,
   "metadata": {
    "collapsed": true
   },
   "outputs": [],
   "source": [
    "school_summary_df[\"Spending Range (Per Student)\"] = pd.cut(school_summary_df[\"Per Student Budget\"], bins, labels=group_labels) \n"
   ]
  },
  {
   "cell_type": "code",
   "execution_count": 49,
   "metadata": {
    "collapsed": true
   },
   "outputs": [],
   "source": [
    "spending_range = school_summary_df.groupby(\"Spending Range (Per Student)\")\n",
    "spending_range = spending_range[[\"Average Math Score\", \"Average Reading Score\", \"% Passing Math\", \"% Passing Reading\", \"% Overall Passing Rate\"]]"
   ]
  },
  {
   "cell_type": "code",
   "execution_count": 50,
   "metadata": {},
   "outputs": [
    {
     "data": {
      "text/plain": [
       "0     Large\n",
       "1    Medium\n",
       "2     Large\n",
       "3     Large\n",
       "4    Medium\n",
       "Name: Total Students, dtype: category\n",
       "Categories (3, object): [Small < Medium < Large]"
      ]
     },
     "execution_count": 50,
     "metadata": {},
     "output_type": "execute_result"
    }
   ],
   "source": [
    "size_bins = [0,1000,2000,5000]\n",
    "size_labels = [\"Small\", \"Medium\", \"Large\"]\n",
    "pd.cut(school_summary_df[\"Total Students\"], size_bins, labels=size_labels).head()"
   ]
  },
  {
   "cell_type": "code",
   "execution_count": 51,
   "metadata": {
    "collapsed": true
   },
   "outputs": [],
   "source": [
    "school_summary_df[\"School Size\"] = pd.cut(school_summary_df[\"Total Students\"], size_bins, labels=size_labels) \n"
   ]
  },
  {
   "cell_type": "code",
   "execution_count": 52,
   "metadata": {
    "collapsed": true
   },
   "outputs": [],
   "source": [
    "by_school = school_summary_df.groupby(\"School Size\")\n",
    "by_school = by_school[[\"Average Math Score\", \"Average Reading Score\", \"% Passing Math\", \"% Passing Reading\", \"% Overall Passing Rate\"]]"
   ]
  },
  {
   "cell_type": "code",
   "execution_count": 53,
   "metadata": {
    "collapsed": true
   },
   "outputs": [],
   "source": [
    "# **Scores by School Type**\n",
    "\n",
    "# * Repeat the above breakdown, but this time group schools based on school type (Charter vs. District).\n",
    "by_type = school_summary_df.groupby(\"School Type\")\n",
    "by_type = by_type[[\"Average Math Score\", \"Average Reading Score\", \"% Passing Math\", \"% Passing Reading\", \"% Overall Passing Rate\"]]"
   ]
  },
  {
   "cell_type": "code",
   "execution_count": 54,
   "metadata": {
    "collapsed": true
   },
   "outputs": [],
   "source": [
    "school_summary = school_summary_df[[\"school\", \"School Type\", \"Total Students\", \"Total School Budget\", \"Per Student Budget\", \"Average Math Score\", \"Average Reading Score\", \"% Passing Math\", \"% Passing Reading\", \"% Overall Passing Rate\"]]"
   ]
  },
  {
   "cell_type": "code",
   "execution_count": 67,
   "metadata": {},
   "outputs": [],
   "source": [
    "school_summary['Total School Budget'] = school_summary_df['Total School Budget'].map(\"${:,.0f}\".format)\n",
    "school_summary['Per Student Budget'] = school_summary_df['Per Student Budget'].map(\"${:,.0f}\".format)\n",
    "pd.options.mode.chained_assignment = None"
   ]
  },
  {
   "cell_type": "code",
   "execution_count": 56,
   "metadata": {},
   "outputs": [
    {
     "data": {
      "text/html": [
       "<div>\n",
       "<style>\n",
       "    .dataframe thead tr:only-child th {\n",
       "        text-align: right;\n",
       "    }\n",
       "\n",
       "    .dataframe thead th {\n",
       "        text-align: left;\n",
       "    }\n",
       "\n",
       "    .dataframe tbody tr th {\n",
       "        vertical-align: top;\n",
       "    }\n",
       "</style>\n",
       "<table border=\"1\" class=\"dataframe\">\n",
       "  <thead>\n",
       "    <tr style=\"text-align: right;\">\n",
       "      <th></th>\n",
       "      <th>Total Schools</th>\n",
       "      <th>Total Students</th>\n",
       "      <th>Total Budget</th>\n",
       "      <th>Average Math Score</th>\n",
       "      <th>Average Reading Score</th>\n",
       "      <th>% Passing Math</th>\n",
       "      <th>% Passing Reading</th>\n",
       "      <th>% Overall Passing Rate</th>\n",
       "    </tr>\n",
       "  </thead>\n",
       "  <tbody>\n",
       "    <tr>\n",
       "      <th>0</th>\n",
       "      <td>15</td>\n",
       "      <td>39170</td>\n",
       "      <td>24649428</td>\n",
       "      <td>78.99</td>\n",
       "      <td>81.88</td>\n",
       "      <td>72.39</td>\n",
       "      <td>82.97</td>\n",
       "      <td>87.25</td>\n",
       "    </tr>\n",
       "  </tbody>\n",
       "</table>\n",
       "</div>"
      ],
      "text/plain": [
       "   Total Schools  Total Students  Total Budget  Average Math Score  \\\n",
       "0             15           39170      24649428               78.99   \n",
       "\n",
       "   Average Reading Score  % Passing Math  % Passing Reading  \\\n",
       "0                  81.88           72.39              82.97   \n",
       "\n",
       "   % Overall Passing Rate  \n",
       "0                   87.25  "
      ]
     },
     "execution_count": 56,
     "metadata": {},
     "output_type": "execute_result"
    }
   ],
   "source": [
    "district_summary"
   ]
  },
  {
   "cell_type": "code",
   "execution_count": 57,
   "metadata": {},
   "outputs": [
    {
     "data": {
      "text/html": [
       "<div>\n",
       "<style>\n",
       "    .dataframe thead tr:only-child th {\n",
       "        text-align: right;\n",
       "    }\n",
       "\n",
       "    .dataframe thead th {\n",
       "        text-align: left;\n",
       "    }\n",
       "\n",
       "    .dataframe tbody tr th {\n",
       "        vertical-align: top;\n",
       "    }\n",
       "</style>\n",
       "<table border=\"1\" class=\"dataframe\">\n",
       "  <thead>\n",
       "    <tr style=\"text-align: right;\">\n",
       "      <th></th>\n",
       "      <th>school</th>\n",
       "      <th>School Type</th>\n",
       "      <th>Total Students</th>\n",
       "      <th>Total School Budget</th>\n",
       "      <th>Per Student Budget</th>\n",
       "      <th>Average Math Score</th>\n",
       "      <th>Average Reading Score</th>\n",
       "      <th>% Passing Math</th>\n",
       "      <th>% Passing Reading</th>\n",
       "      <th>% Overall Passing Rate</th>\n",
       "    </tr>\n",
       "  </thead>\n",
       "  <tbody>\n",
       "    <tr>\n",
       "      <th>0</th>\n",
       "      <td>Bailey High School</td>\n",
       "      <td>District</td>\n",
       "      <td>4976</td>\n",
       "      <td>$3,124,928</td>\n",
       "      <td>$628</td>\n",
       "      <td>77.048432</td>\n",
       "      <td>81.033963</td>\n",
       "      <td>0.646302</td>\n",
       "      <td>0.793006</td>\n",
       "      <td>0.719654</td>\n",
       "    </tr>\n",
       "    <tr>\n",
       "      <th>1</th>\n",
       "      <td>Cabrera High School</td>\n",
       "      <td>Charter</td>\n",
       "      <td>1858</td>\n",
       "      <td>$1,081,356</td>\n",
       "      <td>$582</td>\n",
       "      <td>83.061895</td>\n",
       "      <td>83.975780</td>\n",
       "      <td>0.895587</td>\n",
       "      <td>0.938644</td>\n",
       "      <td>0.917115</td>\n",
       "    </tr>\n",
       "    <tr>\n",
       "      <th>2</th>\n",
       "      <td>Figueroa High School</td>\n",
       "      <td>District</td>\n",
       "      <td>2949</td>\n",
       "      <td>$1,884,411</td>\n",
       "      <td>$639</td>\n",
       "      <td>76.711767</td>\n",
       "      <td>81.158020</td>\n",
       "      <td>0.637504</td>\n",
       "      <td>0.784334</td>\n",
       "      <td>0.710919</td>\n",
       "    </tr>\n",
       "    <tr>\n",
       "      <th>3</th>\n",
       "      <td>Ford High School</td>\n",
       "      <td>District</td>\n",
       "      <td>2739</td>\n",
       "      <td>$1,763,916</td>\n",
       "      <td>$644</td>\n",
       "      <td>77.102592</td>\n",
       "      <td>80.746258</td>\n",
       "      <td>0.657539</td>\n",
       "      <td>0.775100</td>\n",
       "      <td>0.716320</td>\n",
       "    </tr>\n",
       "    <tr>\n",
       "      <th>4</th>\n",
       "      <td>Griffin High School</td>\n",
       "      <td>Charter</td>\n",
       "      <td>1468</td>\n",
       "      <td>$917,500</td>\n",
       "      <td>$625</td>\n",
       "      <td>83.351499</td>\n",
       "      <td>83.816757</td>\n",
       "      <td>0.897139</td>\n",
       "      <td>0.933924</td>\n",
       "      <td>0.915531</td>\n",
       "    </tr>\n",
       "    <tr>\n",
       "      <th>5</th>\n",
       "      <td>Hernandez High School</td>\n",
       "      <td>District</td>\n",
       "      <td>4635</td>\n",
       "      <td>$3,022,020</td>\n",
       "      <td>$652</td>\n",
       "      <td>77.289752</td>\n",
       "      <td>80.934412</td>\n",
       "      <td>0.647465</td>\n",
       "      <td>0.781877</td>\n",
       "      <td>0.714671</td>\n",
       "    </tr>\n",
       "    <tr>\n",
       "      <th>6</th>\n",
       "      <td>Holden High School</td>\n",
       "      <td>Charter</td>\n",
       "      <td>427</td>\n",
       "      <td>$248,087</td>\n",
       "      <td>$581</td>\n",
       "      <td>83.803279</td>\n",
       "      <td>83.814988</td>\n",
       "      <td>0.906323</td>\n",
       "      <td>0.927400</td>\n",
       "      <td>0.916862</td>\n",
       "    </tr>\n",
       "    <tr>\n",
       "      <th>7</th>\n",
       "      <td>Huang High School</td>\n",
       "      <td>District</td>\n",
       "      <td>2917</td>\n",
       "      <td>$1,910,635</td>\n",
       "      <td>$655</td>\n",
       "      <td>76.629414</td>\n",
       "      <td>81.182722</td>\n",
       "      <td>0.633185</td>\n",
       "      <td>0.788138</td>\n",
       "      <td>0.710662</td>\n",
       "    </tr>\n",
       "    <tr>\n",
       "      <th>8</th>\n",
       "      <td>Johnson High School</td>\n",
       "      <td>District</td>\n",
       "      <td>4761</td>\n",
       "      <td>$3,094,650</td>\n",
       "      <td>$650</td>\n",
       "      <td>77.072464</td>\n",
       "      <td>80.966394</td>\n",
       "      <td>0.638521</td>\n",
       "      <td>0.782819</td>\n",
       "      <td>0.710670</td>\n",
       "    </tr>\n",
       "    <tr>\n",
       "      <th>9</th>\n",
       "      <td>Pena High School</td>\n",
       "      <td>Charter</td>\n",
       "      <td>962</td>\n",
       "      <td>$585,858</td>\n",
       "      <td>$609</td>\n",
       "      <td>83.839917</td>\n",
       "      <td>84.044699</td>\n",
       "      <td>0.916840</td>\n",
       "      <td>0.922037</td>\n",
       "      <td>0.919439</td>\n",
       "    </tr>\n",
       "    <tr>\n",
       "      <th>10</th>\n",
       "      <td>Rodriguez High School</td>\n",
       "      <td>District</td>\n",
       "      <td>3999</td>\n",
       "      <td>$2,547,363</td>\n",
       "      <td>$637</td>\n",
       "      <td>76.842711</td>\n",
       "      <td>80.744686</td>\n",
       "      <td>0.640660</td>\n",
       "      <td>0.777444</td>\n",
       "      <td>0.709052</td>\n",
       "    </tr>\n",
       "    <tr>\n",
       "      <th>11</th>\n",
       "      <td>Shelton High School</td>\n",
       "      <td>Charter</td>\n",
       "      <td>1761</td>\n",
       "      <td>$1,056,600</td>\n",
       "      <td>$600</td>\n",
       "      <td>83.359455</td>\n",
       "      <td>83.725724</td>\n",
       "      <td>0.898921</td>\n",
       "      <td>0.926178</td>\n",
       "      <td>0.912550</td>\n",
       "    </tr>\n",
       "    <tr>\n",
       "      <th>12</th>\n",
       "      <td>Thomas High School</td>\n",
       "      <td>Charter</td>\n",
       "      <td>1635</td>\n",
       "      <td>$1,043,130</td>\n",
       "      <td>$638</td>\n",
       "      <td>83.418349</td>\n",
       "      <td>83.848930</td>\n",
       "      <td>0.902141</td>\n",
       "      <td>0.929052</td>\n",
       "      <td>0.915596</td>\n",
       "    </tr>\n",
       "    <tr>\n",
       "      <th>13</th>\n",
       "      <td>Wilson High School</td>\n",
       "      <td>Charter</td>\n",
       "      <td>2283</td>\n",
       "      <td>$1,319,574</td>\n",
       "      <td>$578</td>\n",
       "      <td>83.274201</td>\n",
       "      <td>83.989488</td>\n",
       "      <td>0.909330</td>\n",
       "      <td>0.932545</td>\n",
       "      <td>0.920937</td>\n",
       "    </tr>\n",
       "    <tr>\n",
       "      <th>14</th>\n",
       "      <td>Wright High School</td>\n",
       "      <td>Charter</td>\n",
       "      <td>1800</td>\n",
       "      <td>$1,049,400</td>\n",
       "      <td>$583</td>\n",
       "      <td>83.682222</td>\n",
       "      <td>83.955000</td>\n",
       "      <td>0.902778</td>\n",
       "      <td>0.934444</td>\n",
       "      <td>0.918611</td>\n",
       "    </tr>\n",
       "  </tbody>\n",
       "</table>\n",
       "</div>"
      ],
      "text/plain": [
       "                   school School Type Total Students Total School Budget  \\\n",
       "0      Bailey High School    District           4976          $3,124,928   \n",
       "1     Cabrera High School     Charter           1858          $1,081,356   \n",
       "2    Figueroa High School    District           2949          $1,884,411   \n",
       "3        Ford High School    District           2739          $1,763,916   \n",
       "4     Griffin High School     Charter           1468            $917,500   \n",
       "5   Hernandez High School    District           4635          $3,022,020   \n",
       "6      Holden High School     Charter            427            $248,087   \n",
       "7       Huang High School    District           2917          $1,910,635   \n",
       "8     Johnson High School    District           4761          $3,094,650   \n",
       "9        Pena High School     Charter            962            $585,858   \n",
       "10  Rodriguez High School    District           3999          $2,547,363   \n",
       "11    Shelton High School     Charter           1761          $1,056,600   \n",
       "12     Thomas High School     Charter           1635          $1,043,130   \n",
       "13     Wilson High School     Charter           2283          $1,319,574   \n",
       "14     Wright High School     Charter           1800          $1,049,400   \n",
       "\n",
       "   Per Student Budget  Average Math Score  Average Reading Score  \\\n",
       "0                $628           77.048432              81.033963   \n",
       "1                $582           83.061895              83.975780   \n",
       "2                $639           76.711767              81.158020   \n",
       "3                $644           77.102592              80.746258   \n",
       "4                $625           83.351499              83.816757   \n",
       "5                $652           77.289752              80.934412   \n",
       "6                $581           83.803279              83.814988   \n",
       "7                $655           76.629414              81.182722   \n",
       "8                $650           77.072464              80.966394   \n",
       "9                $609           83.839917              84.044699   \n",
       "10               $637           76.842711              80.744686   \n",
       "11               $600           83.359455              83.725724   \n",
       "12               $638           83.418349              83.848930   \n",
       "13               $578           83.274201              83.989488   \n",
       "14               $583           83.682222              83.955000   \n",
       "\n",
       "    % Passing Math  % Passing Reading  % Overall Passing Rate  \n",
       "0         0.646302           0.793006                0.719654  \n",
       "1         0.895587           0.938644                0.917115  \n",
       "2         0.637504           0.784334                0.710919  \n",
       "3         0.657539           0.775100                0.716320  \n",
       "4         0.897139           0.933924                0.915531  \n",
       "5         0.647465           0.781877                0.714671  \n",
       "6         0.906323           0.927400                0.916862  \n",
       "7         0.633185           0.788138                0.710662  \n",
       "8         0.638521           0.782819                0.710670  \n",
       "9         0.916840           0.922037                0.919439  \n",
       "10        0.640660           0.777444                0.709052  \n",
       "11        0.898921           0.926178                0.912550  \n",
       "12        0.902141           0.929052                0.915596  \n",
       "13        0.909330           0.932545                0.920937  \n",
       "14        0.902778           0.934444                0.918611  "
      ]
     },
     "execution_count": 57,
     "metadata": {},
     "output_type": "execute_result"
    }
   ],
   "source": [
    "school_summary"
   ]
  },
  {
   "cell_type": "code",
   "execution_count": 58,
   "metadata": {},
   "outputs": [
    {
     "data": {
      "text/html": [
       "<div>\n",
       "<style>\n",
       "    .dataframe thead tr:only-child th {\n",
       "        text-align: right;\n",
       "    }\n",
       "\n",
       "    .dataframe thead th {\n",
       "        text-align: left;\n",
       "    }\n",
       "\n",
       "    .dataframe tbody tr th {\n",
       "        vertical-align: top;\n",
       "    }\n",
       "</style>\n",
       "<table border=\"1\" class=\"dataframe\">\n",
       "  <thead>\n",
       "    <tr style=\"text-align: right;\">\n",
       "      <th></th>\n",
       "      <th>school</th>\n",
       "      <th>School Type</th>\n",
       "      <th>Total Students</th>\n",
       "      <th>Total School Budget</th>\n",
       "      <th>Per Student Budget</th>\n",
       "      <th>Average Math Score</th>\n",
       "      <th>Average Reading Score</th>\n",
       "      <th>% Passing Math</th>\n",
       "      <th>% Passing Reading</th>\n",
       "      <th>% Overall Passing Rate</th>\n",
       "    </tr>\n",
       "  </thead>\n",
       "  <tbody>\n",
       "    <tr>\n",
       "      <th>13</th>\n",
       "      <td>Wilson High School</td>\n",
       "      <td>Charter</td>\n",
       "      <td>2283</td>\n",
       "      <td>1319574.0</td>\n",
       "      <td>578.0</td>\n",
       "      <td>83.274201</td>\n",
       "      <td>83.989488</td>\n",
       "      <td>0.909330</td>\n",
       "      <td>0.932545</td>\n",
       "      <td>0.920937</td>\n",
       "    </tr>\n",
       "    <tr>\n",
       "      <th>9</th>\n",
       "      <td>Pena High School</td>\n",
       "      <td>Charter</td>\n",
       "      <td>962</td>\n",
       "      <td>585858.0</td>\n",
       "      <td>609.0</td>\n",
       "      <td>83.839917</td>\n",
       "      <td>84.044699</td>\n",
       "      <td>0.916840</td>\n",
       "      <td>0.922037</td>\n",
       "      <td>0.919439</td>\n",
       "    </tr>\n",
       "    <tr>\n",
       "      <th>14</th>\n",
       "      <td>Wright High School</td>\n",
       "      <td>Charter</td>\n",
       "      <td>1800</td>\n",
       "      <td>1049400.0</td>\n",
       "      <td>583.0</td>\n",
       "      <td>83.682222</td>\n",
       "      <td>83.955000</td>\n",
       "      <td>0.902778</td>\n",
       "      <td>0.934444</td>\n",
       "      <td>0.918611</td>\n",
       "    </tr>\n",
       "    <tr>\n",
       "      <th>1</th>\n",
       "      <td>Cabrera High School</td>\n",
       "      <td>Charter</td>\n",
       "      <td>1858</td>\n",
       "      <td>1081356.0</td>\n",
       "      <td>582.0</td>\n",
       "      <td>83.061895</td>\n",
       "      <td>83.975780</td>\n",
       "      <td>0.895587</td>\n",
       "      <td>0.938644</td>\n",
       "      <td>0.917115</td>\n",
       "    </tr>\n",
       "    <tr>\n",
       "      <th>6</th>\n",
       "      <td>Holden High School</td>\n",
       "      <td>Charter</td>\n",
       "      <td>427</td>\n",
       "      <td>248087.0</td>\n",
       "      <td>581.0</td>\n",
       "      <td>83.803279</td>\n",
       "      <td>83.814988</td>\n",
       "      <td>0.906323</td>\n",
       "      <td>0.927400</td>\n",
       "      <td>0.916862</td>\n",
       "    </tr>\n",
       "  </tbody>\n",
       "</table>\n",
       "</div>"
      ],
      "text/plain": [
       "                 school School Type Total Students  Total School Budget  \\\n",
       "13   Wilson High School     Charter           2283            1319574.0   \n",
       "9      Pena High School     Charter            962             585858.0   \n",
       "14   Wright High School     Charter           1800            1049400.0   \n",
       "1   Cabrera High School     Charter           1858            1081356.0   \n",
       "6    Holden High School     Charter            427             248087.0   \n",
       "\n",
       "    Per Student Budget  Average Math Score  Average Reading Score  \\\n",
       "13               578.0           83.274201              83.989488   \n",
       "9                609.0           83.839917              84.044699   \n",
       "14               583.0           83.682222              83.955000   \n",
       "1                582.0           83.061895              83.975780   \n",
       "6                581.0           83.803279              83.814988   \n",
       "\n",
       "    % Passing Math  % Passing Reading  % Overall Passing Rate  \n",
       "13        0.909330           0.932545                0.920937  \n",
       "9         0.916840           0.922037                0.919439  \n",
       "14        0.902778           0.934444                0.918611  \n",
       "1         0.895587           0.938644                0.917115  \n",
       "6         0.906323           0.927400                0.916862  "
      ]
     },
     "execution_count": 58,
     "metadata": {},
     "output_type": "execute_result"
    }
   ],
   "source": [
    "Top_performing.head()"
   ]
  },
  {
   "cell_type": "code",
   "execution_count": 59,
   "metadata": {},
   "outputs": [
    {
     "data": {
      "text/html": [
       "<div>\n",
       "<style>\n",
       "    .dataframe thead tr:only-child th {\n",
       "        text-align: right;\n",
       "    }\n",
       "\n",
       "    .dataframe thead th {\n",
       "        text-align: left;\n",
       "    }\n",
       "\n",
       "    .dataframe tbody tr th {\n",
       "        vertical-align: top;\n",
       "    }\n",
       "</style>\n",
       "<table border=\"1\" class=\"dataframe\">\n",
       "  <thead>\n",
       "    <tr style=\"text-align: right;\">\n",
       "      <th></th>\n",
       "      <th>school</th>\n",
       "      <th>School Type</th>\n",
       "      <th>Total Students</th>\n",
       "      <th>Total School Budget</th>\n",
       "      <th>Per Student Budget</th>\n",
       "      <th>Average Math Score</th>\n",
       "      <th>Average Reading Score</th>\n",
       "      <th>% Passing Math</th>\n",
       "      <th>% Passing Reading</th>\n",
       "      <th>% Overall Passing Rate</th>\n",
       "    </tr>\n",
       "  </thead>\n",
       "  <tbody>\n",
       "    <tr>\n",
       "      <th>10</th>\n",
       "      <td>Rodriguez High School</td>\n",
       "      <td>District</td>\n",
       "      <td>3999</td>\n",
       "      <td>2547363.0</td>\n",
       "      <td>637.0</td>\n",
       "      <td>76.842711</td>\n",
       "      <td>80.744686</td>\n",
       "      <td>0.640660</td>\n",
       "      <td>0.777444</td>\n",
       "      <td>0.709052</td>\n",
       "    </tr>\n",
       "    <tr>\n",
       "      <th>7</th>\n",
       "      <td>Huang High School</td>\n",
       "      <td>District</td>\n",
       "      <td>2917</td>\n",
       "      <td>1910635.0</td>\n",
       "      <td>655.0</td>\n",
       "      <td>76.629414</td>\n",
       "      <td>81.182722</td>\n",
       "      <td>0.633185</td>\n",
       "      <td>0.788138</td>\n",
       "      <td>0.710662</td>\n",
       "    </tr>\n",
       "    <tr>\n",
       "      <th>8</th>\n",
       "      <td>Johnson High School</td>\n",
       "      <td>District</td>\n",
       "      <td>4761</td>\n",
       "      <td>3094650.0</td>\n",
       "      <td>650.0</td>\n",
       "      <td>77.072464</td>\n",
       "      <td>80.966394</td>\n",
       "      <td>0.638521</td>\n",
       "      <td>0.782819</td>\n",
       "      <td>0.710670</td>\n",
       "    </tr>\n",
       "    <tr>\n",
       "      <th>2</th>\n",
       "      <td>Figueroa High School</td>\n",
       "      <td>District</td>\n",
       "      <td>2949</td>\n",
       "      <td>1884411.0</td>\n",
       "      <td>639.0</td>\n",
       "      <td>76.711767</td>\n",
       "      <td>81.158020</td>\n",
       "      <td>0.637504</td>\n",
       "      <td>0.784334</td>\n",
       "      <td>0.710919</td>\n",
       "    </tr>\n",
       "    <tr>\n",
       "      <th>5</th>\n",
       "      <td>Hernandez High School</td>\n",
       "      <td>District</td>\n",
       "      <td>4635</td>\n",
       "      <td>3022020.0</td>\n",
       "      <td>652.0</td>\n",
       "      <td>77.289752</td>\n",
       "      <td>80.934412</td>\n",
       "      <td>0.647465</td>\n",
       "      <td>0.781877</td>\n",
       "      <td>0.714671</td>\n",
       "    </tr>\n",
       "  </tbody>\n",
       "</table>\n",
       "</div>"
      ],
      "text/plain": [
       "                   school School Type Total Students  Total School Budget  \\\n",
       "10  Rodriguez High School    District           3999            2547363.0   \n",
       "7       Huang High School    District           2917            1910635.0   \n",
       "8     Johnson High School    District           4761            3094650.0   \n",
       "2    Figueroa High School    District           2949            1884411.0   \n",
       "5   Hernandez High School    District           4635            3022020.0   \n",
       "\n",
       "    Per Student Budget  Average Math Score  Average Reading Score  \\\n",
       "10               637.0           76.842711              80.744686   \n",
       "7                655.0           76.629414              81.182722   \n",
       "8                650.0           77.072464              80.966394   \n",
       "2                639.0           76.711767              81.158020   \n",
       "5                652.0           77.289752              80.934412   \n",
       "\n",
       "    % Passing Math  % Passing Reading  % Overall Passing Rate  \n",
       "10        0.640660           0.777444                0.709052  \n",
       "7         0.633185           0.788138                0.710662  \n",
       "8         0.638521           0.782819                0.710670  \n",
       "2         0.637504           0.784334                0.710919  \n",
       "5         0.647465           0.781877                0.714671  "
      ]
     },
     "execution_count": 59,
     "metadata": {},
     "output_type": "execute_result"
    }
   ],
   "source": [
    "Bottom_performing.head()"
   ]
  },
  {
   "cell_type": "code",
   "execution_count": 60,
   "metadata": {},
   "outputs": [
    {
     "data": {
      "text/html": [
       "<div>\n",
       "<style>\n",
       "    .dataframe thead tr:only-child th {\n",
       "        text-align: right;\n",
       "    }\n",
       "\n",
       "    .dataframe thead th {\n",
       "        text-align: left;\n",
       "    }\n",
       "\n",
       "    .dataframe tbody tr th {\n",
       "        vertical-align: top;\n",
       "    }\n",
       "</style>\n",
       "<table border=\"1\" class=\"dataframe\">\n",
       "  <thead>\n",
       "    <tr>\n",
       "      <th></th>\n",
       "      <th colspan=\"4\" halign=\"left\">math_score</th>\n",
       "    </tr>\n",
       "    <tr>\n",
       "      <th>grade</th>\n",
       "      <th>10th</th>\n",
       "      <th>11th</th>\n",
       "      <th>12th</th>\n",
       "      <th>9th</th>\n",
       "    </tr>\n",
       "    <tr>\n",
       "      <th>school</th>\n",
       "      <th></th>\n",
       "      <th></th>\n",
       "      <th></th>\n",
       "      <th></th>\n",
       "    </tr>\n",
       "  </thead>\n",
       "  <tbody>\n",
       "    <tr>\n",
       "      <th>Bailey High School</th>\n",
       "      <td>76.996772</td>\n",
       "      <td>77.515588</td>\n",
       "      <td>76.492218</td>\n",
       "      <td>77.083676</td>\n",
       "    </tr>\n",
       "    <tr>\n",
       "      <th>Cabrera High School</th>\n",
       "      <td>83.154506</td>\n",
       "      <td>82.765560</td>\n",
       "      <td>83.277487</td>\n",
       "      <td>83.094697</td>\n",
       "    </tr>\n",
       "    <tr>\n",
       "      <th>Figueroa High School</th>\n",
       "      <td>76.539974</td>\n",
       "      <td>76.884344</td>\n",
       "      <td>77.151369</td>\n",
       "      <td>76.403037</td>\n",
       "    </tr>\n",
       "    <tr>\n",
       "      <th>Ford High School</th>\n",
       "      <td>77.672316</td>\n",
       "      <td>76.918058</td>\n",
       "      <td>76.179963</td>\n",
       "      <td>77.361345</td>\n",
       "    </tr>\n",
       "    <tr>\n",
       "      <th>Griffin High School</th>\n",
       "      <td>84.229064</td>\n",
       "      <td>83.842105</td>\n",
       "      <td>83.356164</td>\n",
       "      <td>82.044010</td>\n",
       "    </tr>\n",
       "    <tr>\n",
       "      <th>Hernandez High School</th>\n",
       "      <td>77.337408</td>\n",
       "      <td>77.136029</td>\n",
       "      <td>77.186567</td>\n",
       "      <td>77.438495</td>\n",
       "    </tr>\n",
       "    <tr>\n",
       "      <th>Holden High School</th>\n",
       "      <td>83.429825</td>\n",
       "      <td>85.000000</td>\n",
       "      <td>82.855422</td>\n",
       "      <td>83.787402</td>\n",
       "    </tr>\n",
       "    <tr>\n",
       "      <th>Huang High School</th>\n",
       "      <td>75.908735</td>\n",
       "      <td>76.446602</td>\n",
       "      <td>77.225641</td>\n",
       "      <td>77.027251</td>\n",
       "    </tr>\n",
       "    <tr>\n",
       "      <th>Johnson High School</th>\n",
       "      <td>76.691117</td>\n",
       "      <td>77.491653</td>\n",
       "      <td>76.863248</td>\n",
       "      <td>77.187857</td>\n",
       "    </tr>\n",
       "    <tr>\n",
       "      <th>Pena High School</th>\n",
       "      <td>83.372000</td>\n",
       "      <td>84.328125</td>\n",
       "      <td>84.121547</td>\n",
       "      <td>83.625455</td>\n",
       "    </tr>\n",
       "    <tr>\n",
       "      <th>Rodriguez High School</th>\n",
       "      <td>76.612500</td>\n",
       "      <td>76.395626</td>\n",
       "      <td>77.690748</td>\n",
       "      <td>76.859966</td>\n",
       "    </tr>\n",
       "    <tr>\n",
       "      <th>Shelton High School</th>\n",
       "      <td>82.917411</td>\n",
       "      <td>83.383495</td>\n",
       "      <td>83.778976</td>\n",
       "      <td>83.420755</td>\n",
       "    </tr>\n",
       "    <tr>\n",
       "      <th>Thomas High School</th>\n",
       "      <td>83.087886</td>\n",
       "      <td>83.498795</td>\n",
       "      <td>83.497041</td>\n",
       "      <td>83.590022</td>\n",
       "    </tr>\n",
       "    <tr>\n",
       "      <th>Wilson High School</th>\n",
       "      <td>83.724422</td>\n",
       "      <td>83.195326</td>\n",
       "      <td>83.035794</td>\n",
       "      <td>83.085578</td>\n",
       "    </tr>\n",
       "    <tr>\n",
       "      <th>Wright High School</th>\n",
       "      <td>84.010288</td>\n",
       "      <td>83.836782</td>\n",
       "      <td>83.644986</td>\n",
       "      <td>83.264706</td>\n",
       "    </tr>\n",
       "  </tbody>\n",
       "</table>\n",
       "</div>"
      ],
      "text/plain": [
       "                      math_score                                 \n",
       "grade                       10th       11th       12th        9th\n",
       "school                                                           \n",
       "Bailey High School     76.996772  77.515588  76.492218  77.083676\n",
       "Cabrera High School    83.154506  82.765560  83.277487  83.094697\n",
       "Figueroa High School   76.539974  76.884344  77.151369  76.403037\n",
       "Ford High School       77.672316  76.918058  76.179963  77.361345\n",
       "Griffin High School    84.229064  83.842105  83.356164  82.044010\n",
       "Hernandez High School  77.337408  77.136029  77.186567  77.438495\n",
       "Holden High School     83.429825  85.000000  82.855422  83.787402\n",
       "Huang High School      75.908735  76.446602  77.225641  77.027251\n",
       "Johnson High School    76.691117  77.491653  76.863248  77.187857\n",
       "Pena High School       83.372000  84.328125  84.121547  83.625455\n",
       "Rodriguez High School  76.612500  76.395626  77.690748  76.859966\n",
       "Shelton High School    82.917411  83.383495  83.778976  83.420755\n",
       "Thomas High School     83.087886  83.498795  83.497041  83.590022\n",
       "Wilson High School     83.724422  83.195326  83.035794  83.085578\n",
       "Wright High School     84.010288  83.836782  83.644986  83.264706"
      ]
     },
     "execution_count": 60,
     "metadata": {},
     "output_type": "execute_result"
    }
   ],
   "source": [
    "pd.pivot_table(schoolmathscores, index= \"school\", columns= \"grade\", aggfunc=\"mean\")"
   ]
  },
  {
   "cell_type": "code",
   "execution_count": 61,
   "metadata": {},
   "outputs": [
    {
     "data": {
      "text/html": [
       "<div>\n",
       "<style>\n",
       "    .dataframe thead tr:only-child th {\n",
       "        text-align: right;\n",
       "    }\n",
       "\n",
       "    .dataframe thead th {\n",
       "        text-align: left;\n",
       "    }\n",
       "\n",
       "    .dataframe tbody tr th {\n",
       "        vertical-align: top;\n",
       "    }\n",
       "</style>\n",
       "<table border=\"1\" class=\"dataframe\">\n",
       "  <thead>\n",
       "    <tr>\n",
       "      <th></th>\n",
       "      <th colspan=\"4\" halign=\"left\">reading_score</th>\n",
       "    </tr>\n",
       "    <tr>\n",
       "      <th>grade</th>\n",
       "      <th>10th</th>\n",
       "      <th>11th</th>\n",
       "      <th>12th</th>\n",
       "      <th>9th</th>\n",
       "    </tr>\n",
       "    <tr>\n",
       "      <th>school</th>\n",
       "      <th></th>\n",
       "      <th></th>\n",
       "      <th></th>\n",
       "      <th></th>\n",
       "    </tr>\n",
       "  </thead>\n",
       "  <tbody>\n",
       "    <tr>\n",
       "      <th>Bailey High School</th>\n",
       "      <td>80.907183</td>\n",
       "      <td>80.945643</td>\n",
       "      <td>80.912451</td>\n",
       "      <td>81.303155</td>\n",
       "    </tr>\n",
       "    <tr>\n",
       "      <th>Cabrera High School</th>\n",
       "      <td>84.253219</td>\n",
       "      <td>83.788382</td>\n",
       "      <td>84.287958</td>\n",
       "      <td>83.676136</td>\n",
       "    </tr>\n",
       "    <tr>\n",
       "      <th>Figueroa High School</th>\n",
       "      <td>81.408912</td>\n",
       "      <td>80.640339</td>\n",
       "      <td>81.384863</td>\n",
       "      <td>81.198598</td>\n",
       "    </tr>\n",
       "    <tr>\n",
       "      <th>Ford High School</th>\n",
       "      <td>81.262712</td>\n",
       "      <td>80.403642</td>\n",
       "      <td>80.662338</td>\n",
       "      <td>80.632653</td>\n",
       "    </tr>\n",
       "    <tr>\n",
       "      <th>Griffin High School</th>\n",
       "      <td>83.706897</td>\n",
       "      <td>84.288089</td>\n",
       "      <td>84.013699</td>\n",
       "      <td>83.369193</td>\n",
       "    </tr>\n",
       "    <tr>\n",
       "      <th>Hernandez High School</th>\n",
       "      <td>80.660147</td>\n",
       "      <td>81.396140</td>\n",
       "      <td>80.857143</td>\n",
       "      <td>80.866860</td>\n",
       "    </tr>\n",
       "    <tr>\n",
       "      <th>Holden High School</th>\n",
       "      <td>83.324561</td>\n",
       "      <td>83.815534</td>\n",
       "      <td>84.698795</td>\n",
       "      <td>83.677165</td>\n",
       "    </tr>\n",
       "    <tr>\n",
       "      <th>Huang High School</th>\n",
       "      <td>81.512386</td>\n",
       "      <td>81.417476</td>\n",
       "      <td>80.305983</td>\n",
       "      <td>81.290284</td>\n",
       "    </tr>\n",
       "    <tr>\n",
       "      <th>Johnson High School</th>\n",
       "      <td>80.773431</td>\n",
       "      <td>80.616027</td>\n",
       "      <td>81.227564</td>\n",
       "      <td>81.260714</td>\n",
       "    </tr>\n",
       "    <tr>\n",
       "      <th>Pena High School</th>\n",
       "      <td>83.612000</td>\n",
       "      <td>84.335938</td>\n",
       "      <td>84.591160</td>\n",
       "      <td>83.807273</td>\n",
       "    </tr>\n",
       "    <tr>\n",
       "      <th>Rodriguez High School</th>\n",
       "      <td>80.629808</td>\n",
       "      <td>80.864811</td>\n",
       "      <td>80.376426</td>\n",
       "      <td>80.993127</td>\n",
       "    </tr>\n",
       "    <tr>\n",
       "      <th>Shelton High School</th>\n",
       "      <td>83.441964</td>\n",
       "      <td>84.373786</td>\n",
       "      <td>82.781671</td>\n",
       "      <td>84.122642</td>\n",
       "    </tr>\n",
       "    <tr>\n",
       "      <th>Thomas High School</th>\n",
       "      <td>84.254157</td>\n",
       "      <td>83.585542</td>\n",
       "      <td>83.831361</td>\n",
       "      <td>83.728850</td>\n",
       "    </tr>\n",
       "    <tr>\n",
       "      <th>Wilson High School</th>\n",
       "      <td>84.021452</td>\n",
       "      <td>83.764608</td>\n",
       "      <td>84.317673</td>\n",
       "      <td>83.939778</td>\n",
       "    </tr>\n",
       "    <tr>\n",
       "      <th>Wright High School</th>\n",
       "      <td>83.812757</td>\n",
       "      <td>84.156322</td>\n",
       "      <td>84.073171</td>\n",
       "      <td>83.833333</td>\n",
       "    </tr>\n",
       "  </tbody>\n",
       "</table>\n",
       "</div>"
      ],
      "text/plain": [
       "                      reading_score                                 \n",
       "grade                          10th       11th       12th        9th\n",
       "school                                                              \n",
       "Bailey High School        80.907183  80.945643  80.912451  81.303155\n",
       "Cabrera High School       84.253219  83.788382  84.287958  83.676136\n",
       "Figueroa High School      81.408912  80.640339  81.384863  81.198598\n",
       "Ford High School          81.262712  80.403642  80.662338  80.632653\n",
       "Griffin High School       83.706897  84.288089  84.013699  83.369193\n",
       "Hernandez High School     80.660147  81.396140  80.857143  80.866860\n",
       "Holden High School        83.324561  83.815534  84.698795  83.677165\n",
       "Huang High School         81.512386  81.417476  80.305983  81.290284\n",
       "Johnson High School       80.773431  80.616027  81.227564  81.260714\n",
       "Pena High School          83.612000  84.335938  84.591160  83.807273\n",
       "Rodriguez High School     80.629808  80.864811  80.376426  80.993127\n",
       "Shelton High School       83.441964  84.373786  82.781671  84.122642\n",
       "Thomas High School        84.254157  83.585542  83.831361  83.728850\n",
       "Wilson High School        84.021452  83.764608  84.317673  83.939778\n",
       "Wright High School        83.812757  84.156322  84.073171  83.833333"
      ]
     },
     "execution_count": 61,
     "metadata": {},
     "output_type": "execute_result"
    }
   ],
   "source": [
    "pd.pivot_table(schoolreadscores, index= \"school\", columns= \"grade\", aggfunc=\"mean\")"
   ]
  },
  {
   "cell_type": "code",
   "execution_count": 62,
   "metadata": {},
   "outputs": [
    {
     "data": {
      "text/html": [
       "<div>\n",
       "<style>\n",
       "    .dataframe thead tr:only-child th {\n",
       "        text-align: right;\n",
       "    }\n",
       "\n",
       "    .dataframe thead th {\n",
       "        text-align: left;\n",
       "    }\n",
       "\n",
       "    .dataframe tbody tr th {\n",
       "        vertical-align: top;\n",
       "    }\n",
       "</style>\n",
       "<table border=\"1\" class=\"dataframe\">\n",
       "  <thead>\n",
       "    <tr style=\"text-align: right;\">\n",
       "      <th></th>\n",
       "      <th>Average Math Score</th>\n",
       "      <th>Average Reading Score</th>\n",
       "      <th>% Passing Math</th>\n",
       "      <th>% Passing Reading</th>\n",
       "      <th>% Overall Passing Rate</th>\n",
       "    </tr>\n",
       "    <tr>\n",
       "      <th>Spending Range (Per Student)</th>\n",
       "      <th></th>\n",
       "      <th></th>\n",
       "      <th></th>\n",
       "      <th></th>\n",
       "      <th></th>\n",
       "    </tr>\n",
       "  </thead>\n",
       "  <tbody>\n",
       "    <tr>\n",
       "      <th>&lt;$580</th>\n",
       "      <td>83.274201</td>\n",
       "      <td>83.989488</td>\n",
       "      <td>0.909330</td>\n",
       "      <td>0.932545</td>\n",
       "      <td>0.920937</td>\n",
       "    </tr>\n",
       "    <tr>\n",
       "      <th>$580-$615</th>\n",
       "      <td>83.549353</td>\n",
       "      <td>83.903238</td>\n",
       "      <td>0.904090</td>\n",
       "      <td>0.929741</td>\n",
       "      <td>0.916915</td>\n",
       "    </tr>\n",
       "    <tr>\n",
       "      <th>$615-$635</th>\n",
       "      <td>80.199966</td>\n",
       "      <td>82.425360</td>\n",
       "      <td>0.771721</td>\n",
       "      <td>0.863465</td>\n",
       "      <td>0.817593</td>\n",
       "    </tr>\n",
       "    <tr>\n",
       "      <th>$635-$660</th>\n",
       "      <td>77.866721</td>\n",
       "      <td>81.368774</td>\n",
       "      <td>0.679574</td>\n",
       "      <td>0.802681</td>\n",
       "      <td>0.741127</td>\n",
       "    </tr>\n",
       "  </tbody>\n",
       "</table>\n",
       "</div>"
      ],
      "text/plain": [
       "                              Average Math Score  Average Reading Score  \\\n",
       "Spending Range (Per Student)                                              \n",
       "<$580                                  83.274201              83.989488   \n",
       "$580-$615                              83.549353              83.903238   \n",
       "$615-$635                              80.199966              82.425360   \n",
       "$635-$660                              77.866721              81.368774   \n",
       "\n",
       "                              % Passing Math  % Passing Reading  \\\n",
       "Spending Range (Per Student)                                      \n",
       "<$580                               0.909330           0.932545   \n",
       "$580-$615                           0.904090           0.929741   \n",
       "$615-$635                           0.771721           0.863465   \n",
       "$635-$660                           0.679574           0.802681   \n",
       "\n",
       "                              % Overall Passing Rate  \n",
       "Spending Range (Per Student)                          \n",
       "<$580                                       0.920937  \n",
       "$580-$615                                   0.916915  \n",
       "$615-$635                                   0.817593  \n",
       "$635-$660                                   0.741127  "
      ]
     },
     "execution_count": 62,
     "metadata": {},
     "output_type": "execute_result"
    }
   ],
   "source": [
    "spending_range.mean()"
   ]
  },
  {
   "cell_type": "code",
   "execution_count": 63,
   "metadata": {},
   "outputs": [
    {
     "data": {
      "text/html": [
       "<div>\n",
       "<style>\n",
       "    .dataframe thead tr:only-child th {\n",
       "        text-align: right;\n",
       "    }\n",
       "\n",
       "    .dataframe thead th {\n",
       "        text-align: left;\n",
       "    }\n",
       "\n",
       "    .dataframe tbody tr th {\n",
       "        vertical-align: top;\n",
       "    }\n",
       "</style>\n",
       "<table border=\"1\" class=\"dataframe\">\n",
       "  <thead>\n",
       "    <tr style=\"text-align: right;\">\n",
       "      <th></th>\n",
       "      <th>Average Math Score</th>\n",
       "      <th>Average Reading Score</th>\n",
       "      <th>% Passing Math</th>\n",
       "      <th>% Passing Reading</th>\n",
       "      <th>% Overall Passing Rate</th>\n",
       "    </tr>\n",
       "    <tr>\n",
       "      <th>School Size</th>\n",
       "      <th></th>\n",
       "      <th></th>\n",
       "      <th></th>\n",
       "      <th></th>\n",
       "      <th></th>\n",
       "    </tr>\n",
       "  </thead>\n",
       "  <tbody>\n",
       "    <tr>\n",
       "      <th>Small</th>\n",
       "      <td>83.821598</td>\n",
       "      <td>83.929843</td>\n",
       "      <td>0.911582</td>\n",
       "      <td>0.924719</td>\n",
       "      <td>0.918150</td>\n",
       "    </tr>\n",
       "    <tr>\n",
       "      <th>Medium</th>\n",
       "      <td>83.374684</td>\n",
       "      <td>83.864438</td>\n",
       "      <td>0.899313</td>\n",
       "      <td>0.932448</td>\n",
       "      <td>0.915881</td>\n",
       "    </tr>\n",
       "    <tr>\n",
       "      <th>Large</th>\n",
       "      <td>77.746417</td>\n",
       "      <td>81.344493</td>\n",
       "      <td>0.676313</td>\n",
       "      <td>0.801908</td>\n",
       "      <td>0.739111</td>\n",
       "    </tr>\n",
       "  </tbody>\n",
       "</table>\n",
       "</div>"
      ],
      "text/plain": [
       "             Average Math Score  Average Reading Score  % Passing Math  \\\n",
       "School Size                                                              \n",
       "Small                 83.821598              83.929843        0.911582   \n",
       "Medium                83.374684              83.864438        0.899313   \n",
       "Large                 77.746417              81.344493        0.676313   \n",
       "\n",
       "             % Passing Reading  % Overall Passing Rate  \n",
       "School Size                                             \n",
       "Small                 0.924719                0.918150  \n",
       "Medium                0.932448                0.915881  \n",
       "Large                 0.801908                0.739111  "
      ]
     },
     "execution_count": 63,
     "metadata": {},
     "output_type": "execute_result"
    }
   ],
   "source": [
    "by_school.mean()"
   ]
  },
  {
   "cell_type": "code",
   "execution_count": 64,
   "metadata": {},
   "outputs": [
    {
     "data": {
      "text/html": [
       "<div>\n",
       "<style>\n",
       "    .dataframe thead tr:only-child th {\n",
       "        text-align: right;\n",
       "    }\n",
       "\n",
       "    .dataframe thead th {\n",
       "        text-align: left;\n",
       "    }\n",
       "\n",
       "    .dataframe tbody tr th {\n",
       "        vertical-align: top;\n",
       "    }\n",
       "</style>\n",
       "<table border=\"1\" class=\"dataframe\">\n",
       "  <thead>\n",
       "    <tr style=\"text-align: right;\">\n",
       "      <th></th>\n",
       "      <th>Average Math Score</th>\n",
       "      <th>Average Reading Score</th>\n",
       "      <th>% Passing Math</th>\n",
       "      <th>% Passing Reading</th>\n",
       "      <th>% Overall Passing Rate</th>\n",
       "    </tr>\n",
       "    <tr>\n",
       "      <th>School Type</th>\n",
       "      <th></th>\n",
       "      <th></th>\n",
       "      <th></th>\n",
       "      <th></th>\n",
       "      <th></th>\n",
       "    </tr>\n",
       "  </thead>\n",
       "  <tbody>\n",
       "    <tr>\n",
       "      <th>Charter</th>\n",
       "      <td>83.473852</td>\n",
       "      <td>83.896421</td>\n",
       "      <td>0.903632</td>\n",
       "      <td>0.930528</td>\n",
       "      <td>0.917080</td>\n",
       "    </tr>\n",
       "    <tr>\n",
       "      <th>District</th>\n",
       "      <td>76.956733</td>\n",
       "      <td>80.966636</td>\n",
       "      <td>0.643025</td>\n",
       "      <td>0.783246</td>\n",
       "      <td>0.713135</td>\n",
       "    </tr>\n",
       "  </tbody>\n",
       "</table>\n",
       "</div>"
      ],
      "text/plain": [
       "             Average Math Score  Average Reading Score  % Passing Math  \\\n",
       "School Type                                                              \n",
       "Charter               83.473852              83.896421        0.903632   \n",
       "District              76.956733              80.966636        0.643025   \n",
       "\n",
       "             % Passing Reading  % Overall Passing Rate  \n",
       "School Type                                             \n",
       "Charter               0.930528                0.917080  \n",
       "District              0.783246                0.713135  "
      ]
     },
     "execution_count": 64,
     "metadata": {},
     "output_type": "execute_result"
    }
   ],
   "source": [
    "by_type.mean()"
   ]
  },
  {
   "cell_type": "code",
   "execution_count": 65,
   "metadata": {
    "collapsed": true
   },
   "outputs": [],
   "source": [
    "# As final considerations:\n",
    "\n",
    "# * Your script must work for both data-sets given.\n",
    "# * You must use the Pandas Library and the Jupyter Notebook.\n",
    "# * You must submit a link to your Jupyter Notebook with the viewable Data Frames. \n",
    "# * You must include an exported markdown version of your Notebook called  `README.md` in your GitHub repository.  \n",
    "# * You must include a written description of three observable trends based on the data. \n",
    "# * See [Example Solution](PyCitySchools/PyCitySchools_Example.pdf) for a reference on the expected format. "
   ]
  },
  {
   "cell_type": "code",
   "execution_count": 66,
   "metadata": {
    "collapsed": true
   },
   "outputs": [],
   "source": [
    "# ## Hints and Considerations\n",
    "\n",
    "# * These are challenging activities for a number of reasons. For one, these activities will require you to analyze thousands of records. Hacking through the data to look for obvious trends in Excel is just not a feasible option. The size of the data may seem daunting, but Python Pandas will allow you to efficiently parse through it. \n",
    "\n",
    "# * Second, these activities will also challenge you by requiring you to learn on your feet. Don't fool yourself into thinking: \"I need to study Pandas more closely before diving in.\" Get the basic gist of the library and then _immediately_ get to work. When facing a daunting task, it's easy to think: \"I'm just not ready to tackle it yet.\" But that's the surest way to never succeed. Learning to program requires one to constantly tinker, experiment, and learn on the fly. You are doing exactly the _right_ thing, if you find yourself constantly practicing Google-Fu and diving into documentation. There is just no way (or reason) to try and memorize it all. Online references are available for you to use when you need them. So use them!\n",
    "\n",
    "# * Take each of these tasks one at a time. Begin your work, answering the basic questions: \"How do I import the data?\" \"How do I convert the data into a DataFrame?\" \"How do I build the first table?\" Don't get intimidated by the number of asks. Many of them are repetitive in nature with just a few tweaks. Be persistent and creative!\n",
    "\n",
    "# * Expect these exercises to take time! Don't get discouraged if you find yourself spending  hours initially with little progress. Force yourself to deal with the discomfort of not knowing and forge ahead. This exercise is likely to take between 15-30 hours of your time. Consider these hours an investment in your future!\n",
    "\n",
    "# * As always, feel encouraged to work in groups and get help from your TAs and Instructor. Just remember, true success comes from mastery and _not_ a completed homework assignment. So challenge yourself to truly succeed!"
   ]
  },
  {
   "cell_type": "code",
   "execution_count": null,
   "metadata": {
    "collapsed": true
   },
   "outputs": [],
   "source": []
  }
 ],
 "metadata": {
  "kernelspec": {
   "display_name": "Python 3",
   "language": "python",
   "name": "python3"
  },
  "language_info": {
   "codemirror_mode": {
    "name": "ipython",
    "version": 3
   },
   "file_extension": ".py",
   "mimetype": "text/x-python",
   "name": "python",
   "nbconvert_exporter": "python",
   "pygments_lexer": "ipython3",
   "version": "3.6.2"
  }
 },
 "nbformat": 4,
 "nbformat_minor": 2
}
